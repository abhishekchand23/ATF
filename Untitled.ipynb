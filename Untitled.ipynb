{
 "cells": [
  {
   "cell_type": "code",
   "execution_count": 1,
   "metadata": {},
   "outputs": [],
   "source": [
    "import numpy as np"
   ]
  },
  {
   "cell_type": "code",
   "execution_count": 14,
   "metadata": {},
   "outputs": [],
   "source": [
    "np.random.seed(1234)"
   ]
  },
  {
   "cell_type": "code",
   "execution_count": 30,
   "metadata": {},
   "outputs": [
    {
     "data": {
      "text/plain": [
       "array([-0.3195614 , -0.61999309,  0.15699838, -0.57145535,  1.05763318,\n",
       "       -0.79148881, -0.52462735,  0.07187804,  1.91075943,  0.78796468,\n",
       "        0.51308214, -0.54641628,  1.04394466,  2.10778515,  1.45992748,\n",
       "        1.01540546,  0.7491846 , -0.67552148,  0.44026639,  0.68897186,\n",
       "       -0.27664613,  1.92453332,  0.41120402,  0.89076496,  0.22636323])"
      ]
     },
     "execution_count": 30,
     "metadata": {},
     "output_type": "execute_result"
    }
   ],
   "source": [
    "z=np.random.randn(25)\n",
    "z"
   ]
  },
  {
   "cell_type": "code",
   "execution_count": 22,
   "metadata": {},
   "outputs": [
    {
     "data": {
      "text/plain": [
       "array([-0.22301898,  2.12369189,  0.12227343, -1.40943174,  1.42298595,\n",
       "       -2.14785504, -1.34753251,  0.36356456, -0.01475211,  1.27239508,\n",
       "       -1.44956661, -1.19552374, -0.59186297, -0.41450484, -1.42579473,\n",
       "        0.20939479, -0.592886  , -1.47311641, -0.89658062,  1.10435157,\n",
       "       -0.43154952, -0.16113691,  0.88915749,  0.28837685, -1.05153894])"
      ]
     },
     "execution_count": 22,
     "metadata": {},
     "output_type": "execute_result"
    }
   ],
   "source": [
    "np.random.normal(0,1,25)\n",
    "\n"
   ]
  },
  {
   "cell_type": "code",
   "execution_count": 24,
   "metadata": {},
   "outputs": [],
   "source": [
    "x=z+3\n"
   ]
  },
  {
   "cell_type": "code",
   "execution_count": 25,
   "metadata": {},
   "outputs": [
    {
     "data": {
      "text/plain": [
       "array([3.3937106 , 2.520676  , 2.70098371, 3.69410329, 3.67862967,\n",
       "       3.239556  , 3.15122663, 3.81612723, 4.89353447, 3.63963276,\n",
       "       2.03797117, 0.91473436, 4.93024677, 1.26465113, 4.2103837 ,\n",
       "       3.79743542, 2.62018922, 3.70256222, 2.14965373, 4.17681245,\n",
       "       2.4756639 , 3.70090773, 3.98418807, 2.87827159, 5.36576863])"
      ]
     },
     "execution_count": 25,
     "metadata": {},
     "output_type": "execute_result"
    }
   ],
   "source": [
    "x"
   ]
  },
  {
   "cell_type": "code",
   "execution_count": 26,
   "metadata": {},
   "outputs": [
    {
     "data": {
      "text/plain": [
       "3.3175048173327637"
      ]
     },
     "execution_count": 26,
     "metadata": {},
     "output_type": "execute_result"
    }
   ],
   "source": [
    "np.mean(x)"
   ]
  },
  {
   "cell_type": "code",
   "execution_count": 47,
   "metadata": {},
   "outputs": [
    {
     "data": {
      "text/plain": [
       "-0.6035653867979903"
      ]
     },
     "execution_count": 47,
     "metadata": {},
     "output_type": "execute_result"
    }
   ],
   "source": [
    "np.mean(np.random.normal(0,1,10))"
   ]
  },
  {
   "cell_type": "code",
   "execution_count": null,
   "metadata": {},
   "outputs": [],
   "source": []
  }
 ],
 "metadata": {
  "kernelspec": {
   "display_name": "Python 3",
   "language": "python",
   "name": "python3"
  },
  "language_info": {
   "codemirror_mode": {
    "name": "ipython",
    "version": 3
   },
   "file_extension": ".py",
   "mimetype": "text/x-python",
   "name": "python",
   "nbconvert_exporter": "python",
   "pygments_lexer": "ipython3",
   "version": "3.6.4"
  }
 },
 "nbformat": 4,
 "nbformat_minor": 2
}
